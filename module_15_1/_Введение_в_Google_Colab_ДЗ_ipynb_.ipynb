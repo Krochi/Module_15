{
  "nbformat": 4,
  "nbformat_minor": 0,
  "metadata": {
    "colab": {
      "provenance": []
    },
    "kernelspec": {
      "name": "python3",
      "display_name": "Python 3"
    },
    "language_info": {
      "name": "python"
    }
  },
  "cells": [
    {
      "cell_type": "markdown",
      "source": [
        "1. Создание и настройка документа:\n",
        "\n",
        "*Создайте новый документ в Google Colab.\n",
        "\n",
        "*Переименуйте документ в \"Введение в Google Colab\"."
      ],
      "metadata": {
        "id": "FJzc_u3xk4NX"
      }
    },
    {
      "cell_type": "markdown",
      "source": [
        "2. Текстовые и кодовые ячейки:\n",
        "\n",
        "*Вставьте текстовую ячейку и напишите краткое введение о Google Colab.\n",
        "\n",
        "*Вставьте новую кодовую ячейку и выполните следующий код, чтобы убедиться, что среда работает"
      ],
      "metadata": {
        "id": "cMiDzxUvlA3I"
      }
    },
    {
      "cell_type": "markdown",
      "source": [
        "\n",
        "# Введение в Google Colab\n",
        "\n",
        "Google Colab — это бесплатная облачная платформа от Google для машинного обучения и анализа данных. Она позволяет выполнять код на Python в браузере с использованием облачных ресурсов."
      ],
      "metadata": {
        "id": "Pjj-qRgxlkyu"
      }
    },
    {
      "cell_type": "code",
      "source": [
        "from google.colab import drive\n",
        "drive.mount('/content/drive')\n",
        "print(\"Hello, Google Colab!\")"
      ],
      "metadata": {
        "colab": {
          "base_uri": "https://localhost:8080/"
        },
        "id": "a9qJ99Zyl4XG",
        "outputId": "0295d438-2551-4f04-9fa2-1d13acf4cd4e"
      },
      "execution_count": null,
      "outputs": [
        {
          "output_type": "stream",
          "name": "stdout",
          "text": [
            "Mounted at /content/drive\n",
            "Hello, Google Colab!\n"
          ]
        }
      ]
    },
    {
      "cell_type": "markdown",
      "source": [
        "3. Основы Python:\n",
        "\n",
        "Вставьте кодовую ячейку и напишите код для выполнения следующих задач:\n",
        "\n",
        "Создайте список из 10 случайных чисел.\n",
        "\n",
        "Напишите функцию, которая возвращает сумму чисел в списке.\n",
        "\n",
        "Вызовите функцию и выведите результат на экран."
      ],
      "metadata": {
        "id": "hzF2GT8cmls5"
      }
    },
    {
      "cell_type": "code",
      "source": [
        "from google.colab import drive\n",
        "drive.mount('/content/drive')\n",
        "import random\n",
        "\n",
        "# Создаем список из 10 случайных чисел\n",
        "random_numbers = [random.randint(1, 100) for _ in range(10)]\n",
        "\n",
        "# Функция для вычисления суммы чисел в списке\n",
        "def sum_of_numbers(numbers):\n",
        "    return sum(numbers)\n",
        "\n",
        "# Вызов функции и вывод результата\n",
        "result = sum_of_numbers(random_numbers)\n",
        "print(\"Список случайных чисел:\", random_numbers)\n",
        "print(\"Сумма чисел в списке:\", result)"
      ],
      "metadata": {
        "colab": {
          "base_uri": "https://localhost:8080/"
        },
        "id": "dhebgchdmxDK",
        "outputId": "855f032c-1dc6-4df9-815b-feff461752ca"
      },
      "execution_count": null,
      "outputs": [
        {
          "output_type": "stream",
          "name": "stdout",
          "text": [
            "Drive already mounted at /content/drive; to attempt to forcibly remount, call drive.mount(\"/content/drive\", force_remount=True).\n",
            "Список случайных чисел: [49, 8, 50, 63, 83, 1, 4, 3, 88, 3]\n",
            "Сумма чисел в списке: 352\n"
          ]
        }
      ]
    },
    {
      "cell_type": "markdown",
      "source": [
        "4. Работа с библиотеками:\n",
        "\n",
        "Установите библиотеку numpy (если она не установлена):\n",
        "\n",
        "!pip install numpy\n",
        "\n",
        "Импортируйте библиотеку numpy и создайте массив из 20 случайных чисел.\n",
        "\n",
        "Вычислите среднее значение массива и выведите его на экран."
      ],
      "metadata": {
        "id": "U-yxZbWwnGaR"
      }
    },
    {
      "cell_type": "code",
      "source": [
        "from google.colab import drive\n",
        "drive.mount('/content/drive')\n",
        "!pip install numpy\n",
        "\n",
        "import numpy as np\n",
        "\n",
        "# Создаем массив из 20 случайных чисел\n",
        "random_array = np.random.randint(1, 100, size=20)\n",
        "\n",
        "# Вычисляем среднее значение массива\n",
        "mean_value = np.mean(random_array)\n",
        "print(\"Массив случайных чисел:\", random_array)\n",
        "print(\"Среднее значение массива:\", mean_value)"
      ],
      "metadata": {
        "colab": {
          "base_uri": "https://localhost:8080/"
        },
        "id": "QnpKgDQunL4W",
        "outputId": "043a2992-161c-430a-95da-19f9f6407099"
      },
      "execution_count": null,
      "outputs": [
        {
          "output_type": "stream",
          "name": "stdout",
          "text": [
            "Drive already mounted at /content/drive; to attempt to forcibly remount, call drive.mount(\"/content/drive\", force_remount=True).\n",
            "Requirement already satisfied: numpy in /usr/local/lib/python3.10/dist-packages (1.26.4)\n",
            "Массив случайных чисел: [57 34 18 57  9 93 73 77 43 75 26 53  4 16 75 28 75 50 21 82]\n",
            "Среднее значение массива: 48.3\n"
          ]
        }
      ]
    },
    {
      "cell_type": "markdown",
      "source": [
        "5. Загрузка данных\n",
        "\n",
        "Загрузка CSV файла и чтение данных с использованием pandas:"
      ],
      "metadata": {
        "id": "lClONShqnjVO"
      }
    },
    {
      "cell_type": "code",
      "source": [
        "from google.colab import drive\n",
        "drive.mount('/content/drive')\n",
        "!pip install pandas\n",
        "\n",
        "import pandas as pd\n",
        "\n",
        "# Загрузка CSV файла из интернета\n",
        "url = 'https://drive.google.com/uc?id=1zO8ekHWx9U7mrbx_0Hoxxu6od7uxJqWw&export=download'\n",
        "data = pd.read_csv(url)\n",
        "\n",
        "# Вывод первых 5 строк данных\n",
        "print(data.head())"
      ],
      "metadata": {
        "colab": {
          "base_uri": "https://localhost:8080/"
        },
        "id": "TLk4s2dXnoDb",
        "outputId": "e3663f49-6cea-4f63-8b39-23e413b03862"
      },
      "execution_count": 28,
      "outputs": [
        {
          "output_type": "stream",
          "name": "stdout",
          "text": [
            "Drive already mounted at /content/drive; to attempt to forcibly remount, call drive.mount(\"/content/drive\", force_remount=True).\n",
            "Requirement already satisfied: pandas in /usr/local/lib/python3.10/dist-packages (2.2.2)\n",
            "Requirement already satisfied: numpy>=1.22.4 in /usr/local/lib/python3.10/dist-packages (from pandas) (1.26.4)\n",
            "Requirement already satisfied: python-dateutil>=2.8.2 in /usr/local/lib/python3.10/dist-packages (from pandas) (2.8.2)\n",
            "Requirement already satisfied: pytz>=2020.1 in /usr/local/lib/python3.10/dist-packages (from pandas) (2024.2)\n",
            "Requirement already satisfied: tzdata>=2022.7 in /usr/local/lib/python3.10/dist-packages (from pandas) (2024.2)\n",
            "Requirement already satisfied: six>=1.5 in /usr/local/lib/python3.10/dist-packages (from python-dateutil>=2.8.2->pandas) (1.16.0)\n",
            "   Index      Customer Id First Name Last Name  \\\n",
            "0      1  DD37Cf93aecA6Dc     Sheryl    Baxter   \n",
            "1      2  1Ef7b82A4CAAD10    Preston    Lozano   \n",
            "2      3  6F94879bDAfE5a6        Roy     Berry   \n",
            "3      4  5Cef8BFA16c5e3c      Linda     Olsen   \n",
            "4      5  053d585Ab6b3159     Joanna    Bender   \n",
            "\n",
            "                           Company               City  \\\n",
            "0                  Rasmussen Group       East Leonard   \n",
            "1                      Vega-Gentry  East Jimmychester   \n",
            "2                    Murillo-Perry      Isabelborough   \n",
            "3  Dominguez, Mcmillan and Donovan         Bensonview   \n",
            "4         Martin, Lang and Andrade     West Priscilla   \n",
            "\n",
            "                      Country                 Phone 1                Phone 2  \\\n",
            "0                       Chile            229.077.5154       397.884.0519x718   \n",
            "1                    Djibouti              5153435776       686-620-1820x944   \n",
            "2         Antigua and Barbuda         +1-539-402-0259    (496)978-3969x58947   \n",
            "3          Dominican Republic  001-808-617-6467x12895        +1-813-324-8756   \n",
            "4  Slovakia (Slovak Republic)  001-234-203-0635x76146  001-199-446-3860x3486   \n",
            "\n",
            "                         Email Subscription Date                      Website  \n",
            "0     zunigavanessa@smith.info        2020-08-24   http://www.stephenson.com/  \n",
            "1              vmata@colon.com        2021-04-23        http://www.hobbs.com/  \n",
            "2          beckycarr@hogan.com        2020-03-25     http://www.lawrence.com/  \n",
            "3  stanleyblackwell@benson.org        2020-06-02   http://www.good-lyons.com/  \n",
            "4      colinalvarado@miles.net        2021-04-17  https://goodwin-ingram.com/  \n"
          ]
        }
      ]
    },
    {
      "cell_type": "markdown",
      "source": [
        "6. Визуализация данных\n",
        "\n",
        "Установка библиотеки matplotlib и построение графика:"
      ],
      "metadata": {
        "id": "aWjI0dzCn10q"
      }
    },
    {
      "cell_type": "code",
      "source": [
        "from google.colab import drive\n",
        "drive.mount('/content/drive')\n",
        "!pip install matplotlib\n",
        "\n",
        "import matplotlib.pyplot as plt\n",
        "\n",
        "# Convert the \"Subscription Date\" column to datetime format and extract the month\n",
        "data['Subscription Date'] = pd.to_datetime(data['Subscription Date'], errors='coerce')\n",
        "data['Subscription Month'] = data['Subscription Date'].dt.to_period('M')\n",
        "\n",
        "# Count the number of subscriptions per month\n",
        "subscriptions_per_month = data['Subscription Month'].value_counts().sort_index()\n",
        "\n",
        "# Plot the data\n",
        "plt.figure(figsize=(10, 6))\n",
        "subscriptions_per_month.plot(kind='line', marker='o')\n",
        "plt.title('Monthly Subscriptions Count')\n",
        "plt.xlabel('Month')\n",
        "plt.ylabel('Number of Subscriptions')\n",
        "plt.xticks(rotation=45)\n",
        "plt.grid(True)\n",
        "plt.tight_layout()\n",
        "plt.show()"
      ],
      "metadata": {
        "colab": {
          "base_uri": "https://localhost:8080/",
          "height": 827
        },
        "id": "vFHzOiHAn8F5",
        "outputId": "7a715bae-000e-495b-f9f2-d32274bc63f5"
      },
      "execution_count": 29,
      "outputs": [
        {
          "output_type": "stream",
          "name": "stdout",
          "text": [
            "Drive already mounted at /content/drive; to attempt to forcibly remount, call drive.mount(\"/content/drive\", force_remount=True).\n",
            "Requirement already satisfied: matplotlib in /usr/local/lib/python3.10/dist-packages (3.8.0)\n",
            "Requirement already satisfied: contourpy>=1.0.1 in /usr/local/lib/python3.10/dist-packages (from matplotlib) (1.3.0)\n",
            "Requirement already satisfied: cycler>=0.10 in /usr/local/lib/python3.10/dist-packages (from matplotlib) (0.12.1)\n",
            "Requirement already satisfied: fonttools>=4.22.0 in /usr/local/lib/python3.10/dist-packages (from matplotlib) (4.54.1)\n",
            "Requirement already satisfied: kiwisolver>=1.0.1 in /usr/local/lib/python3.10/dist-packages (from matplotlib) (1.4.7)\n",
            "Requirement already satisfied: numpy<2,>=1.21 in /usr/local/lib/python3.10/dist-packages (from matplotlib) (1.26.4)\n",
            "Requirement already satisfied: packaging>=20.0 in /usr/local/lib/python3.10/dist-packages (from matplotlib) (24.1)\n",
            "Requirement already satisfied: pillow>=6.2.0 in /usr/local/lib/python3.10/dist-packages (from matplotlib) (10.4.0)\n",
            "Requirement already satisfied: pyparsing>=2.3.1 in /usr/local/lib/python3.10/dist-packages (from matplotlib) (3.2.0)\n",
            "Requirement already satisfied: python-dateutil>=2.7 in /usr/local/lib/python3.10/dist-packages (from matplotlib) (2.8.2)\n",
            "Requirement already satisfied: six>=1.5 in /usr/local/lib/python3.10/dist-packages (from python-dateutil>=2.7->matplotlib) (1.16.0)\n"
          ]
        },
        {
          "output_type": "display_data",
          "data": {
            "text/plain": [
              "<Figure size 1000x600 with 1 Axes>"
            ],
            "image/png": "[encoded data removed]"
          },
          "metadata": {}
        }
      ]
    },
    {
      "cell_type": "markdown",
      "source": [
        "7. Использование генетических алгоритмов:\n",
        "\n",
        "Скопируйте код генетического алгоритма из лекционного блокнота.\n",
        "\n",
        "Запустите его, изучите работу кода.\n",
        "\n",
        "Измените значение целевой переменной TARGET. Добейтесь (увеличивая при необходимости число итераций обучения) полного соответствия \"нового индивида целевой переменной\"."
      ],
      "metadata": {
        "id": "MkvkgJBQUdm0"
      }
    },
    {
      "cell_type": "code",
      "source": [
        "from google.colab import drive\n",
        "drive.mount('/content/drive')\n",
        "import random\n",
        "\n",
        "# Количество особей в каждом поколении\n",
        "POPULATION_SIZE = 100\n",
        "\n",
        "# Валидные гены\n",
        "GENES = '''abcdefghijklmnopqrstuvwxyzABCDEFGHIJKLMNOP\n",
        "QRSTUVWXYZ 1234567890, .-;:_!\"#%&/()=?@${[]}'''\n",
        "\n",
        "# Целевая строка для генерации\n",
        "TARGET = \"Hello!\"\n",
        "\n",
        "class Individual(object):\n",
        "\t'''\n",
        "\tКласс, представляющий отдельную особь (индивида) в популяции\n",
        "\t'''\n",
        "\tdef __init__(self, chromosome):\n",
        "\t\tself.chromosome = chromosome\n",
        "\t\tself.fitness = self.cal_fitness()\n",
        "\n",
        "\t@classmethod\n",
        "\tdef mutated_genes(self):\n",
        "\t\t'''\n",
        "\t\tСоздаем случайные гены для мутации\n",
        "\t\t'''\n",
        "\t\tglobal GENES\n",
        "\t\tgene = random.choice(GENES)\n",
        "\t\treturn gene\n",
        "\n",
        "\t@classmethod\n",
        "\tdef create_gnome(self):\n",
        "\t\t'''\n",
        "\t\tСоздаем хромосому или набор генов\n",
        "\t\t'''\n",
        "\t\tglobal TARGET\n",
        "\t\tgnome_len = len(TARGET)\n",
        "\t\treturn [self.mutated_genes() for _ in range(gnome_len)]\n",
        "\n",
        "\tdef gene_transfer(self, par2):\n",
        "\t\t'''\n",
        "\t\tПередаем гены новому поколению индивидов\n",
        "\t\t'''\n",
        "\n",
        "\t\tchild_chromosome = []\n",
        "\t\tfor gp1, gp2 in zip(self.chromosome, par2.chromosome):\n",
        "\n",
        "\t\t\tprob = random.random()\n",
        "\n",
        "\t\t\t# если вероятность меньше 0,45, берем ген\n",
        "\t\t\t# от родителя 1\n",
        "\t\t\tif prob < 0.45:\n",
        "\t\t\t\tchild_chromosome.append(gp1)\n",
        "\n",
        "\t\t\t# если вероятность между 0.45 и 0.90, берем\n",
        "\t\t\t# ген от родителя 2\n",
        "\t\t\telif prob < 0.90:\n",
        "\t\t\t\tchild_chromosome.append(gp2)\n",
        "\n",
        "\t\t\t# в противном случае берем случайный ген (мутация),\n",
        "\t\t\telse:\n",
        "\t\t\t\tchild_chromosome.append(self.mutated_genes())\n",
        "\n",
        "\n",
        "\t\treturn Individual(child_chromosome)\n",
        "\n",
        "\tdef cal_fitness(self):\n",
        "\t\t'''\n",
        "\t\tРассчитываем показатель соответствия, это количество\n",
        "\t\tсимволов в строке, которые отличаются от целевой\n",
        "\t\tстроки.\n",
        "\t\t'''\n",
        "\t\tglobal TARGET\n",
        "\t\tfitness = 0\n",
        "\t\tfor gs, gt in zip(self.chromosome, TARGET):\n",
        "\t\t\tif gs != gt: fitness+= 1\n",
        "\t\treturn fitness\n",
        "\n",
        "# Driver code\n",
        "def main():\n",
        "\tglobal POPULATION_SIZE\n",
        "\n",
        "\t#Текущее поколение\n",
        "\tgeneration = 1\n",
        "\n",
        "\tfound = False\n",
        "\tpopulation = []\n",
        "\n",
        "\t# Новое поколение\n",
        "\tfor _ in range(POPULATION_SIZE):\n",
        "\t\t\t\tgnome = Individual.create_gnome()\n",
        "\t\t\t\tpopulation.append(Individual(gnome))\n",
        "\n",
        "\twhile not found:\n",
        "\n",
        "\t\t# Отсортируем популяцию в порядке возрастания оценки соответствия целевой функции\n",
        "\t\tpopulation = sorted(population, key = lambda x:x.fitness)\n",
        "\n",
        "\t\t# Если у нас появился индивид, достигший целевой функции\n",
        "\t\t# цикл совершенствования можно прервать\n",
        "\t\tif population[0].fitness <= 0:\n",
        "\t\t\tfound = True\n",
        "\t\t\tbreak\n",
        "\n",
        "\t\t# В противном случае - продолжаем создавать новые поколения\n",
        "\t\tnew_generation = []\n",
        "\n",
        "\t\t# Определяем 10% популяции, наиболее соответствующих целевой фукнции\n",
        "\t\t# чтобы передать их гены будущим поколениям\n",
        "\t\ts = int((10*POPULATION_SIZE)/100)\n",
        "\t\tnew_generation.extend(population[:s])\n",
        "\n",
        "\n",
        "\t\ts = int((90*POPULATION_SIZE)/100)\n",
        "\t\tfor _ in range(s):\n",
        "\t\t\tparent1 = random.choice(population[:50])\n",
        "\t\t\tparent2 = random.choice(population[:50])\n",
        "\t\t\tchild = parent1.gene_transfer(parent2)\n",
        "\t\t\tnew_generation.append(child)\n",
        "\n",
        "\t\tpopulation = new_generation\n",
        "\n",
        "\t\tprint(\"Generation: {}\\tString: {}\\tFitness: {}\".\n",
        "\t\t\tformat(generation,\n",
        "\t\t\t\"\".join(population[0].chromosome),\n",
        "\t\t\tpopulation[0].fitness))\n",
        "\n",
        "\t\tgeneration += 1\n",
        "\n",
        "\n",
        "\tprint(\"Generation: {}\\tString: {}\\tFitness: {}\".\n",
        "\t\tformat(generation,\n",
        "\t\t\"\".join(population[0].chromosome),\n",
        "\t\tpopulation[0].fitness))\n",
        "\n",
        "if __name__ == '__main__':\n",
        "\tmain()\n"
      ],
      "metadata": {
        "colab": {
          "base_uri": "https://localhost:8080/"
        },
        "id": "4nm0HR_IUk4K",
        "outputId": "3db9feb8-01bd-416c-de59-354cea933b42"
      },
      "execution_count": 31,
      "outputs": [
        {
          "output_type": "stream",
          "name": "stdout",
          "text": [
            "Drive already mounted at /content/drive; to attempt to forcibly remount, call drive.mount(\"/content/drive\", force_remount=True).\n",
            "Generation: 1\tString: H71z8y\tFitness: 5\n",
            "Generation: 2\tString: ]e(de!\tFitness: 4\n",
            "Generation: 3\tString: ]e(de!\tFitness: 4\n",
            "Generation: 4\tString: ]e(de!\tFitness: 4\n",
            "Generation: 5\tString: 7?ldo!\tFitness: 3\n",
            "Generation: 6\tString: 7?ldo!\tFitness: 3\n",
            "Generation: 7\tString: Hegpo!\tFitness: 2\n",
            "Generation: 8\tString: Hegpo!\tFitness: 2\n",
            "Generation: 9\tString: Hel/o!\tFitness: 1\n",
            "Generation: 10\tString: Hel/o!\tFitness: 1\n",
            "Generation: 11\tString: Hello!\tFitness: 0\n"
          ]
        }
      ]
    },
    {
      "cell_type": "markdown",
      "source": [
        "8. Сохранение и совместное использование:\n",
        "\n",
        "Сохраните ваш документ на Google Диске.\n",
        "\n",
        "Настройте доступ к документу для общего использования и отправьте ссылку вашему преподавателю."
      ],
      "metadata": {
        "id": "ldPXGzbGaez8"
      }
    }
  ]
}